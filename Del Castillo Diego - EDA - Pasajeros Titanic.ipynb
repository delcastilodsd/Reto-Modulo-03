{
 "cells": [
  {
   "cell_type": "code",
   "execution_count": null,
   "id": "e00c83b9",
   "metadata": {},
   "outputs": [],
   "source": [
    "import pandas as pd\n",
    "import numpy as np\n",
    "import matplotlib.pyplot as plt\n",
    "import seaborn as sns\n",
    "\n",
    "sns.set_style(style='whitegrid')\n",
    "sns.set_context(context='notebook')\n",
    "plt.rcParams['figure.figsize'] = (11, 9.4)\n",
    "\n",
    "sex_color = {\n",
    "    'male': '#ff6602ff',\n",
    "    'female': '#0f7175ff'\n",
    "}"
   ]
  },
  {
   "cell_type": "code",
   "execution_count": null,
   "id": "5f51a27d",
   "metadata": {},
   "outputs": [],
   "source": [
    "np.random.seed(42)\n",
    "data = {\n",
    "    'age': np.random.randint(1, 80, 100),\n",
    "    'sex': np.random.choice(['male', 'female'], 100),\n",
    "    'class': np.random.choice(['First', 'Second', 'Third'], 100),\n",
    "    'fare': np.random.uniform(10, 100, 100),\n",
    "    'survived': np.random.choice([0, 1], 100)\n",
    "}\n",
    "df_simulated = pd.DataFrame(data)\n",
    "df_simulated.head()"
   ]
  },
  {
   "cell_type": "code",
   "execution_count": null,
   "id": "2a08b3f9",
   "metadata": {},
   "outputs": [],
   "source": [
    "df_simulated.dtypes"
   ]
  },
  {
   "cell_type": "code",
   "execution_count": null,
   "id": "12178612",
   "metadata": {},
   "outputs": [],
   "source": [
    "df_simulated.dtypes.value_counts()"
   ]
  },
  {
   "cell_type": "code",
   "execution_count": null,
   "id": "2fdcf994",
   "metadata": {},
   "outputs": [],
   "source": [
    "plt.figure()\n",
    "sns.histplot(df_simulated['age'], bins=15, kde=True)\n",
    "plt.title('Distribución de Edad')\n",
    "plt.xlabel('Edad')\n",
    "plt.ylabel('Frecuencia')\n",
    "plt.show()"
   ]
  },
  {
   "cell_type": "code",
   "execution_count": null,
   "id": "b8cd5b71",
   "metadata": {},
   "outputs": [],
   "source": [
    "plt.figure()\n",
    "sns.countplot(x='sex', data=df_simulated, palette=sex_color.values())\n",
    "plt.title('Distribución de Sexo')\n",
    "plt.xlabel('Sexo')\n",
    "plt.ylabel('Conteo')\n",
    "plt.show()"
   ]
  },
  {
   "cell_type": "code",
   "execution_count": null,
   "id": "4034c57c",
   "metadata": {},
   "outputs": [],
   "source": [
    "plt.figure()\n",
    "sns.countplot(x='class', data=df_simulated)\n",
    "plt.title('Distribución de Clase de Pasajero')\n",
    "plt.xlabel('Clase')\n",
    "plt.ylabel('Conteo')\n",
    "plt.show()"
   ]
  },
  {
   "cell_type": "code",
   "execution_count": null,
   "id": "71e6b89c",
   "metadata": {},
   "outputs": [],
   "source": [
    "plt.figure()\n",
    "sns.countplot(x='sex', hue='survived', data=df_simulated, palette=sex_color.values())\n",
    "plt.title('Supervivencia por Sexo')\n",
    "plt.xlabel('Sexo')\n",
    "plt.ylabel('Conteo')\n",
    "plt.show()"
   ]
  }
 ],
 "metadata": {},
 "nbformat": 4,
 "nbformat_minor": 5
}
